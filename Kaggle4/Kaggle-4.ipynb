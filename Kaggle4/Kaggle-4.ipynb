{
 "cells": [
  {
   "cell_type": "code",
   "execution_count": 31,
   "metadata": {},
   "outputs": [
    {
     "data": {
      "text/plain": [
       "(39209, 43)"
      ]
     },
     "execution_count": 31,
     "metadata": {},
     "output_type": "execute_result"
    }
   ],
   "source": [
    "#Kaggle Competition 4 \n",
    "# Load the data into a variable say 'data' using np.load()\n",
    "# data['X_train'] represents X_train with each image's dimension being (32, 32, 3)\n",
    "# data['y_train'] represents each image's label.\n",
    "# data['X_test'] represents X_test with each image's dimension being (32, 32, 3)\n",
    "\n",
    "#Imports \n",
    "import numpy as np\n",
    "import matplotlib.pyplot as plt\n",
    "import pandas as pd\n",
    "#%matplotlib inline  \n",
    "#import os\n",
    "#from tensorflow import keras\n",
    "\n",
    "data = np.load('train_and_test.npz')\n",
    "X_train, y_train, X_test = data['X_train'], data['y_train'], data['X_test']\n",
    "\n",
    "#y_train.index.name = 'id'\n",
    "\n",
    "data['X_train'].shape\n",
    "data['y_train'].shape\n",
    "\n"
   ]
  },
  {
   "cell_type": "code",
   "execution_count": 3,
   "metadata": {},
   "outputs": [
    {
     "name": "stderr",
     "output_type": "stream",
     "text": [
      "Using TensorFlow backend.\n"
     ]
    }
   ],
   "source": [
    "from keras.models import Sequential\n",
    "\n",
    "from keras.layers import Dense, Conv2D, Flatten\n",
    "\n",
    "model = Sequential()\n",
    "\n",
    "model.add(Conv2D(32, kernel_size=3, activation='relu', input_shape=(32,32,3)))\n",
    "\n",
    "model.add(Conv2D(32, kernel_size=3, activation='relu'))\n",
    "\n",
    "#model.add(MaxPool2D(pool_size=2))\n",
    "\n",
    "model.add(Flatten())\n",
    "\n",
    "model.add(Dense(43, activation='softmax'))\n",
    "\n"
   ]
  },
  {
   "cell_type": "code",
   "execution_count": 5,
   "metadata": {},
   "outputs": [
    {
     "name": "stdout",
     "output_type": "stream",
     "text": [
      "Epoch 1/1\n",
      "39209/39209 [==============================] - 48s 1ms/step - loss: 0.3224 - accuracy: 0.9259\n"
     ]
    },
    {
     "data": {
      "text/plain": [
       "<keras.callbacks.callbacks.History at 0x16ed526efc8>"
      ]
     },
     "execution_count": 5,
     "metadata": {},
     "output_type": "execute_result"
    }
   ],
   "source": [
    "model.compile(optimizer='adam', loss='categorical_crossentropy', metrics=['accuracy'])\n",
    "model.fit(X_train, y_train)\n",
    "\n"
   ]
  },
  {
   "cell_type": "code",
   "execution_count": 24,
   "metadata": {},
   "outputs": [],
   "source": [
    "y_pred = model.predict(X_test)"
   ]
  },
  {
   "cell_type": "code",
   "execution_count": 25,
   "metadata": {},
   "outputs": [
    {
     "name": "stdout",
     "output_type": "stream",
     "text": [
      "(12630, 43)\n",
      "(39209, 43)\n",
      "[[1.3790869e-17 7.3758974e-17 2.9913077e-15 ... 3.1003201e-20\n",
      "  2.8144288e-23 4.5761049e-21]\n",
      " [4.7448039e-17 3.2494403e-03 1.2011867e-07 ... 3.8401566e-18\n",
      "  7.5440612e-25 0.0000000e+00]\n",
      " [0.0000000e+00 0.0000000e+00 0.0000000e+00 ... 2.1130480e-14\n",
      "  0.0000000e+00 0.0000000e+00]\n",
      " ...\n",
      " [4.3851978e-16 1.7129086e-03 1.3668592e-03 ... 1.6832277e-05\n",
      "  1.8031900e-08 5.8046212e-06]\n",
      " [5.2998041e-07 7.1478244e-05 8.8028022e-04 ... 5.6165380e-05\n",
      "  2.6516766e-14 2.0419844e-09]\n",
      " [1.3572625e-07 3.2975143e-03 2.3408805e-03 ... 6.9581822e-04\n",
      "  7.1188580e-08 7.0257727e-07]]\n"
     ]
    }
   ],
   "source": [
    "\n",
    "print(y_pred.shape)\n",
    "print(y_train.shape)\n",
    "print(y_pred)"
   ]
  },
  {
   "cell_type": "code",
   "execution_count": 34,
   "metadata": {},
   "outputs": [],
   "source": [
    "headers = []\n",
    "for i in range(43):\n",
    "    headers.append(\"OH_\"+str(i))\n",
    "\n",
    "df = pd.DataFrame(y_pred,columns=headers)\n",
    "df.index.name = 'id'\n",
    "df.to_csv('Sample_Sub.csv', header=True, sep=',')"
   ]
  },
  {
   "cell_type": "code",
   "execution_count": null,
   "metadata": {},
   "outputs": [],
   "source": []
  }
 ],
 "metadata": {
  "kernelspec": {
   "display_name": "Python 3",
   "language": "python",
   "name": "python3"
  },
  "language_info": {
   "codemirror_mode": {
    "name": "ipython",
    "version": 3
   },
   "file_extension": ".py",
   "mimetype": "text/x-python",
   "name": "python",
   "nbconvert_exporter": "python",
   "pygments_lexer": "ipython3",
   "version": "3.7.6"
  }
 },
 "nbformat": 4,
 "nbformat_minor": 4
}
