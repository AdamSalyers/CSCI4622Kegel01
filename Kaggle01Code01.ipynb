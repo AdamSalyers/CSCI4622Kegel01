{
 "cells": [
  {
   "cell_type": "code",
   "execution_count": null,
   "metadata": {},
   "outputs": [],
   "source": []
  },
  {
   "cell_type": "code",
   "execution_count": 42,
   "metadata": {},
   "outputs": [],
   "source": [
    "import numpy as np\n",
    "import pandas as pd\n",
    "import matplotlib.pyplot as plt\n",
    "import statistics as stat\n",
    "import math\n",
    "import pickle\n",
    "import gzip\n",
    "import sklearn\n",
    "import graphviz\n",
    "from graphviz import Source\n",
    "from sklearn.model_selection import train_test_split\n",
    "from sklearn.linear_model import LinearRegression\n",
    "from sklearn.linear_model import LogisticRegression\n",
    "from sklearn.tree import DecisionTreeClassifier\n",
    "from sklearn.tree import export_graphviz\n",
    "from sklearn.metrics import classification_report\n",
    "from sklearn.metrics import mean_squared_error \n",
    "from sklearn import svm"
   ]
  },
  {
   "cell_type": "code",
   "execution_count": 2,
   "metadata": {},
   "outputs": [],
   "source": [
    "import os\n",
    "os.environ[\"PATH\"] += os.pathsep + 'C:/Program Files (x86)/Graphviz2.38/bin/'"
   ]
  },
  {
   "cell_type": "code",
   "execution_count": 3,
   "metadata": {},
   "outputs": [
    {
     "name": "stdout",
     "output_type": "stream",
     "text": [
      "<class 'pandas.core.frame.DataFrame'>\n",
      "RangeIndex: 17290 entries, 0 to 17289\n",
      "Data columns (total 20 columns):\n",
      "date             17290 non-null int32\n",
      "bedrooms         17290 non-null int64\n",
      "bathrooms        17290 non-null float64\n",
      "sqft_living      17290 non-null int64\n",
      "sqft_lot         17290 non-null int64\n",
      "floors           17290 non-null float64\n",
      "waterfront       17290 non-null int64\n",
      "view             17290 non-null int64\n",
      "condition        17290 non-null int64\n",
      "grade            17290 non-null int64\n",
      "sqft_above       17290 non-null int64\n",
      "sqft_basement    17290 non-null int64\n",
      "yr_built         17290 non-null int64\n",
      "yr_renovated     17290 non-null int64\n",
      "zipcode          17290 non-null int64\n",
      "lat              17290 non-null float64\n",
      "long             17290 non-null float64\n",
      "sqft_living15    17290 non-null int64\n",
      "sqft_lot15       17290 non-null int64\n",
      "price            17290 non-null int64\n",
      "dtypes: float64(4), int32(1), int64(15)\n",
      "memory usage: 2.6 MB\n"
     ]
    },
    {
     "data": {
      "text/plain": [
       "(          0  1     2     3      4    5  6  7  8  9    10   11    12  13  \\\n",
       " 0  20141002  3  1.75  2190   7021  1.0  0  2  4  7  1390  800  1953   0   \n",
       " 1  20150105  3  2.50  2370   6840  2.0  0  0  3  9  2370    0  1987   0   \n",
       " 2  20140617  2  1.00  1230   3800  1.0  0  0  3  7  1230    0  1928   0   \n",
       " 3  20141124  4  2.25  2510   9963  1.0  0  0  4  9  2200  310  1967   0   \n",
       " 4  20140818  3  1.00  1160   7491  1.0  0  0  4  6  1160    0  1917   0   \n",
       " 5  20150304  4  1.00  1220   7980  1.5  0  0  3  6  1220    0  1944   0   \n",
       " 6  20141007  4  2.50  1960   5238  2.0  0  0  3  7  1960    0  2003   0   \n",
       " 7  20140819  3  2.50  2060   4812  2.0  0  0  3  8  2060    0  1990   0   \n",
       " 8  20150407  4  2.50  2700  17853  2.0  0  0  4  9  2700    0  1960   0   \n",
       " 9  20140721  4  2.25  2470  17008  2.0  0  0  4  8  2470    0  1979   0   \n",
       " \n",
       "       14       15       16    17     18  \n",
       " 0  98178  47.5033 -122.232  2180   7155  \n",
       " 1  98119  47.6503 -122.366  1590   4400  \n",
       " 2  98115  47.6797 -122.292  1610   3800  \n",
       " 3  98005  47.5973 -122.177  3110   9963  \n",
       " 4  98177  47.7024 -122.359  1800   2267  \n",
       " 5  98178  47.4924 -122.237  1210   7920  \n",
       " 6  98038  47.3483 -122.052  1800   5894  \n",
       " 7  98029  47.5793 -122.002  1930   5264  \n",
       " 8  98004  47.6463 -122.219  3790  16672  \n",
       " 9  98075  47.5924 -122.048  2470  31798  ,\n",
       "        date  bedrooms  bathrooms  sqft_living  sqft_lot  floors  waterfront  \\\n",
       " 0  20141002         3       1.75         2190      7021     1.0           0   \n",
       " 1  20150105         3       2.50         2370      6840     2.0           0   \n",
       " 2  20140617         2       1.00         1230      3800     1.0           0   \n",
       " 3  20141124         4       2.25         2510      9963     1.0           0   \n",
       " 4  20140818         3       1.00         1160      7491     1.0           0   \n",
       " \n",
       "    view  condition  grade  sqft_above  sqft_basement  yr_built  yr_renovated  \\\n",
       " 0     2          4      7        1390            800      1953             0   \n",
       " 1     0          3      9        2370              0      1987             0   \n",
       " 2     0          3      7        1230              0      1928             0   \n",
       " 3     0          4      9        2200            310      1967             0   \n",
       " 4     0          4      6        1160              0      1917             0   \n",
       " \n",
       "    zipcode      lat     long  sqft_living15  sqft_lot15   price  \n",
       " 0    98178  47.5033 -122.232           2180        7155  353000  \n",
       " 1    98119  47.6503 -122.366           1590        4400  300523  \n",
       " 2    98115  47.6797 -122.292           1610        3800  435000  \n",
       " 3    98005  47.5973 -122.177           3110        9963  800000  \n",
       " 4    98177  47.7024 -122.359           1800        2267  417500  )"
      ]
     },
     "execution_count": 3,
     "metadata": {},
     "output_type": "execute_result"
    }
   ],
   "source": [
    "#read in csv files. drop unknown column\n",
    "traindf = pd.read_csv('train_data.csv', engine='python')\n",
    "traindf.drop(traindf.columns[traindf.columns.str.contains('unnamed',case = False)],axis = 1, inplace = True)\n",
    "\n",
    "#drop the id information becuse it does not matter\n",
    "traindf.drop(traindf.columns[traindf.columns.str.contains('id',case = False)],axis = 1, inplace = True)\n",
    "\n",
    "#clean the date information\n",
    "traindf['date'] = traindf['date'].str.replace(\"(T).*\",\"\").astype(int)\n",
    "\n",
    "traindf.info()\n",
    "traindf.head()\n",
    "\n",
    "\n",
    "#Creates a copy of the training df so we can arrange our data and correctly format it\n",
    "traindfy = traindf.copy()\n",
    "traindfX = traindf.copy()\n",
    "\n",
    "\n",
    "#creates y and X df\n",
    "y = traindfy\n",
    "X = traindfX\n",
    "\n",
    "#Shows us our data for X\n",
    "X.drop(['price'], axis=1, inplace=True)\n",
    "traindfX.columns = range(traindfX.shape[1])\n",
    "X.head(10), traindf.head()"
   ]
  },
  {
   "cell_type": "code",
   "execution_count": 4,
   "metadata": {},
   "outputs": [
    {
     "data": {
      "text/plain": [
       "0    353000\n",
       "1    300523\n",
       "2    435000\n",
       "3    800000\n",
       "4    417500\n",
       "Name: price, dtype: int64"
      ]
     },
     "execution_count": 4,
     "metadata": {},
     "output_type": "execute_result"
    }
   ],
   "source": [
    "#shows us our data for y \n",
    "y = traindfy['price']\n",
    "y.head()"
   ]
  },
  {
   "cell_type": "code",
   "execution_count": 5,
   "metadata": {},
   "outputs": [],
   "source": [
    "#split the data (necessary for other classifiers)\n",
    "X_train, X_test, y_train, y_test = train_test_split(X, y)"
   ]
  },
  {
   "cell_type": "code",
   "execution_count": 6,
   "metadata": {},
   "outputs": [
    {
     "name": "stdout",
     "output_type": "stream",
     "text": [
      "(12967, 19)\n",
      "(4323, 19)\n",
      "(12967,)\n",
      "(4323,)\n"
     ]
    }
   ],
   "source": [
    "#checking for correct array sizes\n",
    "print(X_train.shape)\n",
    "print(X_test.shape)\n",
    "print(y_train.shape)\n",
    "print(y_test.shape)"
   ]
  },
  {
   "cell_type": "code",
   "execution_count": 7,
   "metadata": {},
   "outputs": [
    {
     "name": "stdout",
     "output_type": "stream",
     "text": [
      "LinReg Score:  0.70519564705033\n"
     ]
    }
   ],
   "source": [
    "#actual linear regression\n",
    "Lregression = LinearRegression().fit(X.values, y)\n",
    "print(\"LinReg Score: \",Lregression.score(X, y))\n"
   ]
  },
  {
   "cell_type": "code",
   "execution_count": null,
   "metadata": {},
   "outputs": [],
   "source": [
    "#Log Regress don't run it takes too long\n",
    "#Logreg = LogisticRegression(solver='liblinear', random_state=0).fit(X, y)\n",
    "#print(\"LogReg Score: \",Logreg.score(X,y))"
   ]
  },
  {
   "cell_type": "code",
   "execution_count": 7,
   "metadata": {},
   "outputs": [],
   "source": [
    "#***dont run takes foreer will look at it later*** \n",
    "#clf = svm.SVC(kernel='linear', C=1).fit(X_train, y_train)\n",
    "#clf.score(X_test, y_test)"
   ]
  },
  {
   "cell_type": "markdown",
   "metadata": {},
   "source": [
    "The decision tree seen below is extremely hard to grade since we are looking at the individual house prices.\n",
    "\n",
    "The Gini score given is always going to be really high, becuase in all liklihood there is only one house per price.\n",
    "\n",
    "So instead we need to split the price into ranges, or bins, and then re-enter the correct ranges for the prices."
   ]
  },
  {
   "cell_type": "code",
   "execution_count": 8,
   "metadata": {},
   "outputs": [],
   "source": [
    "#decision tree classifier\n",
    "#Dectree = DecisionTreeClassifier(max_depth = 5).fit(X,y)\n",
    "#Source(export_graphviz(Dectree, out_file = None, feature_names = list(X.columns)))"
   ]
  },
  {
   "cell_type": "code",
   "execution_count": 9,
   "metadata": {},
   "outputs": [],
   "source": [
    "#Checking the range of the price values\n",
    "#Pricemin = y_train.min()\n",
    "#Pricemax = y_train.max()\n",
    "\n",
    "#print(\"Min is: \", Pricemin, \"Max is: \", Pricemax)\n",
    "\n",
    "#Creating our range\n",
    "#Priceranges = np.linspace(Pricemin,Pricemax,15)\n",
    "\n",
    "#Range_y = y_train.copy()\n",
    "#Range_y = np.array(Range_y.values)\n",
    "\n",
    "#for i in range(len(Range_y)):\n",
    "    #for j in range(len(Priceranges)):\n",
    "        #if Range_y[i] <= Priceranges[j+1]: \n",
    "            #Range_y[i] = str(Priceranges[j])+\"-\"+str(Priceranges[j+1])\n",
    "            #break\n",
    "            \n",
    "\n",
    "#print(Range_y)\n",
    "\n",
    "#Now that we have our dataset lets create a new tree and compare!\n",
    "#Dectree = DecisionTreeClassifier(max_depth = 10).fit(X,Range_y)\n",
    "#Source(export_graphviz(Dectree, out_file = None, feature_names = list(X.columns)))\n",
    "\n",
    "#Much Better Right!"
   ]
  },
  {
   "cell_type": "code",
   "execution_count": 45,
   "metadata": {},
   "outputs": [],
   "source": [
    "#SVM classifier\n",
    "SVMreg = svm.SVR(gamma = 1e-8).fit(X,y)"
   ]
  },
  {
   "cell_type": "code",
   "execution_count": 46,
   "metadata": {},
   "outputs": [
    {
     "name": "stdout",
     "output_type": "stream",
     "text": [
      "[449828.24535185 450107.60939821 450040.99926882 ... 450599.8514835\n",
      " 449742.86060814 450671.21505708]\n",
      "132923288778.42125\n"
     ]
    }
   ],
   "source": [
    "predict = SVMreg.predict(X)\n",
    "print(predict)\n",
    "print(mean_squared_error(y,predict))"
   ]
  },
  {
   "cell_type": "code",
   "execution_count": 40,
   "metadata": {},
   "outputs": [
    {
     "name": "stdout",
     "output_type": "stream",
     "text": [
      "[ 660000  725000  862000 ...  145000  716528 1199500]\n"
     ]
    }
   ],
   "source": [
    "print(y)"
   ]
  },
  {
   "cell_type": "code",
   "execution_count": null,
   "metadata": {},
   "outputs": [],
   "source": []
  }
 ],
 "metadata": {
  "kernelspec": {
   "display_name": "Python 3",
   "language": "python",
   "name": "python3"
  },
  "language_info": {
   "codemirror_mode": {
    "name": "ipython",
    "version": 3
   },
   "file_extension": ".py",
   "mimetype": "text/x-python",
   "name": "python",
   "nbconvert_exporter": "python",
   "pygments_lexer": "ipython3",
   "version": "3.7.6"
  }
 },
 "nbformat": 4,
 "nbformat_minor": 4
}
