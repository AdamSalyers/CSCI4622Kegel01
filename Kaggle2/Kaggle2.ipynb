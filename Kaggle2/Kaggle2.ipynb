{
 "cells": [
  {
   "cell_type": "code",
   "execution_count": 1,
   "metadata": {},
   "outputs": [],
   "source": [
    "import numpy as np\n",
    "import pandas as pd\n",
    "import matplotlib.pyplot as plt\n",
    "import statistics as stat\n",
    "import math\n",
    "import pickle\n",
    "import gzip\n",
    "import sklearn\n",
    "import graphviz\n",
    "from graphviz import Source\n",
    "from sklearn.model_selection import train_test_split\n",
    "from sklearn.linear_model import LinearRegression\n",
    "from sklearn.linear_model import LogisticRegression\n",
    "from sklearn.tree import DecisionTreeClassifier\n",
    "from sklearn.tree import export_graphviz\n",
    "from sklearn.metrics import classification_report\n",
    "from sklearn.metrics import mean_squared_error\n",
    "from sklearn.metrics import accuracy_score\n",
    "from sklearn.model_selection import cross_val_score\n",
    "from sklearn import svm\n",
    "import random\n",
    "from sklearn.metrics import roc_curve, auc\n",
    "\n",
    "from sklearn.discriminant_analysis import LinearDiscriminantAnalysis as LDA\n",
    "from sklearn.decomposition import PCA\n",
    "from sklearn.ensemble import RandomForestClassifier\n",
    "from sklearn.metrics import accuracy_score\n",
    "from sklearn.preprocessing import StandardScaler\n",
    "\n"
   ]
  },
  {
   "cell_type": "code",
   "execution_count": 2,
   "metadata": {},
   "outputs": [],
   "source": [
    "import os\n",
    "os.environ[\"PATH\"] += os.pathsep + 'C:/Program Files (x86)/Graphviz2.38/bin/'"
   ]
  },
  {
   "cell_type": "code",
   "execution_count": 3,
   "metadata": {},
   "outputs": [],
   "source": [
    "traindf = pd.read_csv('stock_XY_train.csv', engine='python')\n",
    "#NAs = pd.concat([traindf.isnull().sum()], axis=1)\n",
    "#print(NAs[NAs.sum(axis=1) > 2000])\n",
    "\n",
    "#print(\"Number of rows before drop: \",len(mytrain.index))\n",
    "#mytrain = mytrain.dropna()\n",
    "#print(\"Number of rows after drop: \",len(mytrain.index))\n",
    "\n",
    "#y = mytrain['Buy']\n",
    "#X = mytrain.drop(['Buy'],axis=1)\n",
    "\n",
    "#X.head()"
   ]
  },
  {
   "cell_type": "code",
   "execution_count": 4,
   "metadata": {},
   "outputs": [
    {
     "name": "stdout",
     "output_type": "stream",
     "text": [
      "Train1 columns are:  Index(['Revenue', 'Cost of Revenue', 'Gross Profit'], dtype='object')\n",
      "Accuracy score is:  0.5597729691379922\n"
     ]
    }
   ],
   "source": [
    "train1 = traindf[['Revenue','Cost of Revenue','Gross Profit','Buy']]\n",
    "train1 = train1.dropna()\n",
    "y = train1['Buy']\n",
    "train1.drop(['Buy'],axis=1,inplace=True)\n",
    "print(\"Train1 columns are: \",train1.columns)\n",
    "X_train, X_test, y_train, y_test = train_test_split(train1, y)\n",
    "Dectree = DecisionTreeClassifier(max_depth = 3).fit(X_train,y_train)\n",
    "y_pred = Dectree.predict(X_test)\n",
    "print(\"Accuracy score is: \", accuracy_score(y_test,y_pred))"
   ]
  },
  {
   "cell_type": "code",
   "execution_count": 5,
   "metadata": {},
   "outputs": [
    {
     "name": "stdout",
     "output_type": "stream",
     "text": [
      "I is: 2\n",
      "Best from  Revenue  :  [Index(['Revenue', '3Y Operating CF Growth (per Share)', 'Asset Growth'], dtype='object'), 0.569811320754717]\n"
     ]
    },
    {
     "ename": "NameError",
     "evalue": "name 'myscoresper' is not defined",
     "output_type": "error",
     "traceback": [
      "\u001b[0;31m---------------------------------------------------------------------------\u001b[0m",
      "\u001b[0;31mNameError\u001b[0m                                 Traceback (most recent call last)",
      "\u001b[0;32m<ipython-input-5-e1ecbd8940db>\u001b[0m in \u001b[0;36m<module>\u001b[0;34m\u001b[0m\n\u001b[1;32m     52\u001b[0m     \u001b[0mcurrScore\u001b[0m\u001b[0;34m.\u001b[0m\u001b[0mappend\u001b[0m\u001b[0;34m(\u001b[0m\u001b[0mmySum\u001b[0m\u001b[0;34m/\u001b[0m\u001b[0mcount\u001b[0m\u001b[0;34m)\u001b[0m\u001b[0;34m\u001b[0m\u001b[0;34m\u001b[0m\u001b[0m\n\u001b[1;32m     53\u001b[0m     \u001b[0;31m#print(\"CurrScore is: \", currScore)\u001b[0m\u001b[0;34m\u001b[0m\u001b[0;34m\u001b[0m\u001b[0;34m\u001b[0m\u001b[0m\n\u001b[0;32m---> 54\u001b[0;31m     \u001b[0mmyscoresper\u001b[0m\u001b[0;34m.\u001b[0m\u001b[0mappend\u001b[0m\u001b[0;34m(\u001b[0m\u001b[0mcurrScore\u001b[0m\u001b[0;34m)\u001b[0m\u001b[0;34m\u001b[0m\u001b[0;34m\u001b[0m\u001b[0m\n\u001b[0m\u001b[1;32m     55\u001b[0m \u001b[0;34m\u001b[0m\u001b[0m\n\u001b[1;32m     56\u001b[0m \u001b[0;34m\u001b[0m\u001b[0m\n",
      "\u001b[0;31mNameError\u001b[0m: name 'myscoresper' is not defined"
     ]
    }
   ],
   "source": [
    "#We are trying to figure out which parameters are the best to use so we iterate through all parameters and try them against our own,\n",
    "#We have a variety of arrays to capture data. totals contains the performance and parameters for every decision classifier we make.\n",
    "#It is a tuple containing lists of performances for every single paramter.\n",
    "#then Currscore is our average performance of each parameter\n",
    "#We print out the max of each list in tuple. If we see the same features appearing over and over we know they perform well so we can take them.\n",
    "#myscoresper = []\n",
    "totals = []\n",
    "#myscoresper = []\n",
    "mycolumns = traindf.columns.tolist()\n",
    "mycolumns.remove(\"Buy\")\n",
    "mycolumns.remove(\"Yr\")\n",
    "mycolumns.remove(\"Sector\")\n",
    "mycolumns.remove(\"SG&A Expenses Growth\")\n",
    "mycolumns.remove(\"R&D Expense Growth\")\n",
    "mycolumns.remove(\"Book Value per Share Growth\")\n",
    "mycolumns.remove(\"Inventory Growth\")\n",
    "mycolumns.remove(\"Receivables growth\")\n",
    "mycolumns.remove(\"3Y Dividend per Share Growth (per Share)\")\n",
    "mycolumns.remove(\"5Y Dividend per Share Growth (per Share)\")\n",
    "mycolumns.remove(\"3Y Shareholders Equity Growth (per Share)\")\n",
    "mycolumns.remove(\"10Y Dividend per Share Growth (per Share)\")\n",
    "mycolumns.remove(\"5Y Shareholders Equity Growth (per Share)\")\n",
    "mycolumns.remove(\"10Y Shareholders Equity Growth (per Share)\")\n",
    "mycolumns.remove(\"5Y Net Income Growth (per Share)\")\n",
    "mycolumns.remove(\"3Y Net Income Growth (per Share)\")\n",
    "mycolumns.remove(\"10Y Net Income Growth (per Share)\")\n",
    "for i in range(2,len(mycolumns)):\n",
    "    currScore = [mycolumns[i]]\n",
    "    count = 0\n",
    "    mySum = 0\n",
    "    print(\"I is:\", i)\n",
    "    for j in range (2,len(mycolumns)-2,2):\n",
    "        count += 1\n",
    "        currTot = []\n",
    "        currTotScore = []\n",
    "        if i not in range(j,j+2):\n",
    "            #print(\"Training\")\n",
    "            mytrain = traindf[[mycolumns[i],mycolumns[j],mycolumns[j+1],'Buy']]\n",
    "            mytrain = mytrain.dropna()\n",
    "            y = mytrain['Buy']\n",
    "            mytrain.drop(['Buy'], axis=1,inplace=True)\n",
    "            #print(\"I is: \", i, \"J is: \",j,\"Columns are: \", mytrain.columns)\n",
    "            X_train, X_test, y_train, y_test = train_test_split(mytrain, y)\n",
    "            Dectree = DecisionTreeClassifier(max_depth = 3).fit(X_train,y_train)\n",
    "            y_pred = Dectree.predict(X_test)\n",
    "            currTotScore.append(mytrain.columns)\n",
    "            currTotScore.append(accuracy_score(y_test,y_pred))\n",
    "            mySum += accuracy_score(y_test,y_pred)\n",
    "            currTot.append(currTotScore)\n",
    "    totals.append(currTot)\n",
    "    print(\"Best from \",currScore[0],\" : \", max(currTot,key=lambda item:item[1]))\n",
    "    currScore.append(mySum/count)\n",
    "    #print(\"CurrScore is: \", currScore)\n",
    "    myscoresper.append(currScore)\n",
    "\n",
    "        "
   ]
  },
  {
   "cell_type": "code",
   "execution_count": 20,
   "metadata": {},
   "outputs": [
    {
     "name": "stdout",
     "output_type": "stream",
     "text": [
      "Max Score is:  [['Yr', 'SG&A Expenses Growth', 'Inventory Growth', '3Y Net Income Growth (per Share)', '5Y Shareholders Equity Growth (per Share)', '10Y Dividend per Share Growth (per Share)', '5Y Dividend per Share Growth (per Share)', 'Buy'], 0.6931818181818182]\n"
     ]
    }
   ],
   "source": [
    "#Here we are building a classifier with the best parameters, In my experience less seems to work a bit better so why don't we see which 5 parameters\n",
    "#give us the best performance.\n",
    "\n",
    "optParamTrain = traindf[[\n",
    "\"Yr\",\n",
    "\"SG&A Expenses Growth\",\n",
    "\"R&D Expense Growth\",\n",
    "\"Book Value per Share Growth\",\n",
    "\"Inventory Growth\",\n",
    "\"Receivables growth\",\n",
    "\"3Y Dividend per Share Growth (per Share)\",\n",
    "\"5Y Dividend per Share Growth (per Share)\",\n",
    "\"3Y Shareholders Equity Growth (per Share)\",\n",
    "\"10Y Dividend per Share Growth (per Share)\",\n",
    "\"5Y Shareholders Equity Growth (per Share)\",\n",
    "\"10Y Shareholders Equity Growth (per Share)\",\n",
    "\"5Y Net Income Growth (per Share)\",\n",
    "\"3Y Net Income Growth (per Share)\",\n",
    "\"10Y Net Income Growth (per Share)\",\n",
    "]]\n",
    "\n",
    "mycols = optParamTrain.columns.tolist()\n",
    "myscores = []\n",
    "\n",
    "for i in range(200):\n",
    "    mycurrtrain = []\n",
    "    mycurrtrain += random.sample(mycols, 7)\n",
    "    currscore = [mycurrtrain]\n",
    "    mycurrtrain.append('Buy')\n",
    "    optParamTrain = traindf[mycurrtrain]\n",
    "    optParamTrain = optParamTrain.dropna()\n",
    "    #print(\"len opt: \",len(optParamTrain))\n",
    "    y = optParamTrain['Buy']\n",
    "    #print(\"len y: \",len(y))\n",
    "    optParamTrain.drop(['Buy'],axis=1,inplace=True)\n",
    "\n",
    "    X_train, X_test, y_train, y_test = train_test_split(optParamTrain, y)\n",
    "    Dectree = DecisionTreeClassifier(max_depth = 5).fit(X_train,y_train)\n",
    "    y_pred = Dectree.predict(X_test)\n",
    "    currscore.append(accuracy_score(y_test,y_pred))\n",
    "    myscores.append(currscore)\n",
    "    #print(\"I is\",i)\n",
    "    \n",
    "print(\"Max Score is: \",max(myscores))\n",
    "mymax = max(myscores)"
   ]
  },
  {
   "cell_type": "code",
   "execution_count": 7,
   "metadata": {},
   "outputs": [
    {
     "data": {
      "image/png": "[encoded data removed]",
      "text/plain": [
       "<Figure size 432x288 with 1 Axes>"
      ]
     },
     "metadata": {
      "needs_background": "light"
     },
     "output_type": "display_data"
    }
   ],
   "source": [
    "#So we can see we want our max depth at between 2 or 3, our model quickly overfits, Next lets look at min_sample_split\n",
    "\n",
    "min_samples_splits = np.linspace(0.1, 1.0, 10, endpoint=True)\n",
    "train_results = []\n",
    "test_results = []\n",
    "for min_samples_split in min_samples_splits:\n",
    "    dt = DecisionTreeClassifier(min_samples_split=min_samples_split)\n",
    "    dt.fit(X_train, y_train)   \n",
    "    train_pred = dt.predict(X_train)   \n",
    "    false_positive_rate, true_positive_rate, thresholds = roc_curve(y_train, train_pred)\n",
    "    roc_auc = auc(false_positive_rate, true_positive_rate)\n",
    "    train_results.append(roc_auc)   \n",
    "    y_pred = dt.predict(X_test)   \n",
    "    false_positive_rate, true_positive_rate, thresholds = roc_curve(y_test, y_pred)\n",
    "    roc_auc = auc(false_positive_rate, true_positive_rate)\n",
    "    test_results.append(roc_auc)\n",
    "    \n",
    "from matplotlib.legend_handler import HandlerLine2D\n",
    "plt.plot(min_samples_splits, train_results, 'b', label=\"Train AUC\")\n",
    "plt.plot(min_samples_splits, test_results, 'r', label=\"Test AUC\")\n",
    "plt.legend()\n",
    "plt.ylabel('AUC score')\n",
    "plt.xlabel('min samples split')\n",
    "plt.show()"
   ]
  },
  {
   "cell_type": "code",
   "execution_count": 8,
   "metadata": {},
   "outputs": [
    {
     "data": {
      "image/png": "[encoded data removed]",
      "text/plain": [
       "<Figure size 432x288 with 1 Axes>"
      ]
     },
     "metadata": {
      "needs_background": "light"
     },
     "output_type": "display_data"
    }
   ],
   "source": [
    "#As we can see it tanks off right around .6 or .7 so we should keep it around there\n",
    "min_samples_leafs = np.linspace(0.1, 0.5, 5, endpoint=True)\n",
    "train_results = []\n",
    "test_results = []\n",
    "for min_samples_leaf in min_samples_leafs:\n",
    "    dt = DecisionTreeClassifier(min_samples_leaf=min_samples_leaf)\n",
    "    dt.fit(X_train, y_train)   \n",
    "    train_pred = dt.predict(X_train)   \n",
    "    false_positive_rate, true_positive_rate, thresholds = roc_curve(y_train, train_pred)\n",
    "    roc_auc = auc(false_positive_rate, true_positive_rate)\n",
    "    train_results.append(roc_auc)   \n",
    "    y_pred = dt.predict(X_test)   \n",
    "    false_positive_rate, true_positive_rate, thresholds = roc_curve(y_test, y_pred)\n",
    "    roc_auc = auc(false_positive_rate, true_positive_rate)\n",
    "    test_results.append(roc_auc)\n",
    "\n",
    "plt.plot(min_samples_leafs, train_results, 'b', label=\"Train AUC\")\n",
    "plt.plot(min_samples_leafs, test_results, 'r', label=\"Test AUC\")\n",
    "plt.legend()\n",
    "plt.ylabel('AUC score')\n",
    "plt.xlabel('min samples leaf')\n",
    "plt.show()"
   ]
  },
  {
   "cell_type": "code",
   "execution_count": 21,
   "metadata": {},
   "outputs": [
    {
     "name": "stdout",
     "output_type": "stream",
     "text": [
      "Score:  0.5394190871369294\n"
     ]
    }
   ],
   "source": [
    "#Awesome We have All our Values, lets see if we can improve our model at all\n",
    "Dectree = DecisionTreeClassifier(max_depth = 2)\n",
    "Dectree.fit(X_train, y_train)\n",
    "\n",
    "y_pred = Dectree.predict(X_test)\n",
    "print(\"Score: \", accuracy_score(y_test,y_pred))"
   ]
  },
  {
   "cell_type": "markdown",
   "metadata": {},
   "source": [
    "\"\"\"\n",
    "mytrain = traindf[['priceEarningsToGrowthRatio',\n",
    "'priceBookValueRatio',\n",
    "'priceToBookRatio',\n",
    "'priceToSalesRatio',\n",
    "'priceEarningsRatio',\n",
    "'priceToFreeCashFlowsRatio',\n",
    "'priceToOperatingCashFlowsRatio',\n",
    "'priceCashFlowRatio',\n",
    "'priceSalesRatio',\n",
    "'currentRatio',\n",
    "'quickRatio',\n",
    "'cashRatio',\n",
    "'debtRatio',\n",
    "'debtEquityRatio',\n",
    "'payoutRatio',\n",
    "'operatingCashFlowSalesRatio',\n",
    "'freeCashFlowOperatingCashFlowRatio',\n",
    "'cashFlowCoverageRatios',\n",
    "'shortTermCoverageRatios',\n",
    "'capitalExpenditureCoverageRatios',\n",
    "'dividendpaidAndCapexCoverageRatios',\n",
    "'dividendPayoutRatio',\n",
    "'cashFlowToDebtRatio',\n",
    "'PE ratio',\n",
    "'Price to Sales Ratio',\n",
    "'POCF ratio',\n",
    "'PFCF ratio',\n",
    "'PB ratio',\n",
    "'PTB ratio',\n",
    "'Buy']]\n",
    "\"\"\""
   ]
  },
  {
   "cell_type": "code",
   "execution_count": 11,
   "metadata": {},
   "outputs": [
    {
     "ename": "NameError",
     "evalue": "name 'X' is not defined",
     "output_type": "error",
     "traceback": [
      "\u001b[0;31m---------------------------------------------------------------------------\u001b[0m",
      "\u001b[0;31mNameError\u001b[0m                                 Traceback (most recent call last)",
      "\u001b[0;32m<ipython-input-11-462c3120ceb9>\u001b[0m in \u001b[0;36m<module>\u001b[0;34m\u001b[0m\n\u001b[0;32m----> 1\u001b[0;31m \u001b[0mX_train\u001b[0m\u001b[0;34m,\u001b[0m \u001b[0mX_test\u001b[0m\u001b[0;34m,\u001b[0m \u001b[0my_train\u001b[0m\u001b[0;34m,\u001b[0m \u001b[0my_test\u001b[0m \u001b[0;34m=\u001b[0m \u001b[0mtrain_test_split\u001b[0m\u001b[0;34m(\u001b[0m\u001b[0mX\u001b[0m\u001b[0;34m,\u001b[0m \u001b[0my\u001b[0m\u001b[0;34m)\u001b[0m\u001b[0;34m\u001b[0m\u001b[0;34m\u001b[0m\u001b[0m\n\u001b[0m",
      "\u001b[0;31mNameError\u001b[0m: name 'X' is not defined"
     ]
    }
   ],
   "source": [
    "X_train, X_test, y_train, y_test = train_test_split(X, y)"
   ]
  },
  {
   "cell_type": "code",
   "execution_count": 15,
   "metadata": {},
   "outputs": [
    {
     "name": "stdout",
     "output_type": "stream",
     "text": [
      "(2427, 29)\n",
      "(809, 29)\n",
      "(2427,)\n",
      "(809,)\n"
     ]
    }
   ],
   "source": [
    "#checking for correct array sizes\n",
    "print(X_train.shape)\n",
    "print(X_test.shape)\n",
    "print(y_train.shape)\n",
    "print(y_test.shape)\n",
    "\n"
   ]
  },
  {
   "cell_type": "code",
   "execution_count": 29,
   "metadata": {},
   "outputs": [
    {
     "name": "stdout",
     "output_type": "stream",
     "text": [
      "Cross Valuation Scores for unpruned tree are  [0.47119342 0.51440329 0.55257732 0.51958763 0.52989691]\n",
      "Mean accuracy score is  0.5175317126978066\n",
      "Std accuracy score is  0.026617077895204417\n"
     ]
    }
   ],
   "source": [
    "\n",
    "#Source(export_graphviz(Dectree, out_file = None, feature_names = list(X.columns)))\n",
    "#y_pred = Dectree.predict(X_test)\n",
    "#print(\"Score\",accuracy_score(y_test,y_pred))\n",
    "\n",
    "Dectree = DecisionTreeClassifier(max_depth = 3)\n",
    "crossValScores = cross_val_score(Dectree, X_train, y_train, cv = 5)\n",
    "print(\"Cross Valuation Scores for unpruned tree are \", crossValScores)\n",
    "print(\"Mean accuracy score is \", crossValScores.mean())\n",
    "print(\"Std accuracy score is \", crossValScores.std())"
   ]
  },
  {
   "cell_type": "code",
   "execution_count": 30,
   "metadata": {},
   "outputs": [
    {
     "ename": "NameError",
     "evalue": "name 'prune' is not defined",
     "output_type": "error",
     "traceback": [
      "\u001b[1;31m---------------------------------------------------------------------------\u001b[0m",
      "\u001b[1;31mNameError\u001b[0m                                 Traceback (most recent call last)",
      "\u001b[1;32m<ipython-input-30-6ca39920dc81>\u001b[0m in \u001b[0;36m<module>\u001b[1;34m\u001b[0m\n\u001b[1;32m----> 1\u001b[1;33m \u001b[0mpruned1\u001b[0m \u001b[1;33m=\u001b[0m \u001b[0mprune\u001b[0m\u001b[1;33m.\u001b[0m\u001b[0mpruner\u001b[0m\u001b[1;33m(\u001b[0m\u001b[0mDectree\u001b[0m\u001b[1;33m.\u001b[0m\u001b[0mtree_\u001b[0m\u001b[1;33m)\u001b[0m\u001b[1;33m\u001b[0m\u001b[1;33m\u001b[0m\u001b[0m\n\u001b[0m\u001b[0;32m      2\u001b[0m \u001b[1;33m\u001b[0m\u001b[0m\n\u001b[0;32m      3\u001b[0m \u001b[0my_pred\u001b[0m \u001b[1;33m=\u001b[0m \u001b[0mpruned1\u001b[0m\u001b[1;33m.\u001b[0m\u001b[0mpredict\u001b[0m\u001b[1;33m(\u001b[0m\u001b[0mX_test\u001b[0m\u001b[1;33m)\u001b[0m\u001b[1;33m\u001b[0m\u001b[1;33m\u001b[0m\u001b[0m\n\u001b[0;32m      4\u001b[0m \u001b[0mprint\u001b[0m\u001b[1;33m(\u001b[0m\u001b[1;34m\"Score\"\u001b[0m\u001b[1;33m,\u001b[0m\u001b[0maccuracy_score\u001b[0m\u001b[1;33m(\u001b[0m\u001b[0my_test\u001b[0m\u001b[1;33m,\u001b[0m\u001b[0my_pred\u001b[0m\u001b[1;33m)\u001b[0m\u001b[1;33m)\u001b[0m\u001b[1;33m\u001b[0m\u001b[1;33m\u001b[0m\u001b[0m\n",
      "\u001b[1;31mNameError\u001b[0m: name 'prune' is not defined"
     ]
    }
   ],
   "source": []
  },
  {
   "cell_type": "code",
   "execution_count": null,
   "metadata": {},
   "outputs": [],
   "source": []
  }
 ],
 "metadata": {
  "kernelspec": {
   "display_name": "Python 3",
   "language": "python",
   "name": "python3"
  },
  "language_info": {
   "codemirror_mode": {
    "name": "ipython",
    "version": 3
   },
   "file_extension": ".py",
   "mimetype": "text/x-python",
   "name": "python",
   "nbconvert_exporter": "python",
   "pygments_lexer": "ipython3",
   "version": "3.6.8"
  }
 },
 "nbformat": 4,
 "nbformat_minor": 4
}
